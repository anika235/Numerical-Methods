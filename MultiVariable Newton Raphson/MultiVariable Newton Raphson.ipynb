{
  "nbformat": 4,
  "nbformat_minor": 0,
  "metadata": {
    "colab": {
      "provenance": []
    },
    "kernelspec": {
      "name": "python3",
      "display_name": "Python 3"
    },
    "language_info": {
      "name": "python"
    }
  },
  "cells": [
    {
      "cell_type": "code",
      "execution_count": 1,
      "metadata": {
        "colab": {
          "base_uri": "https://localhost:8080/"
        },
        "id": "zpUqwM-gOcKB",
        "outputId": "4a252f1a-c01a-4052-e80b-320030b0d8c8"
      },
      "outputs": [
        {
          "output_type": "stream",
          "name": "stdout",
          "text": [
            "Roots: [1.09894258 0.36761668 0.14493166]\n"
          ]
        }
      ],
      "source": [
        "import numpy as np\n",
        "\n",
        "def equations(xyz):\n",
        "    x, y, z = xyz\n",
        "    f1 = x**2 - 2*x + y**2 - z + 1\n",
        "    f2 = x*y**2 - x - 3*y + y*z + 2\n",
        "    f3 = x*z**2 - 3*z + y*z**2 + x*y\n",
        "    return np.array([f1, f2, f3])\n",
        "\n",
        "def jacobian(xyz):\n",
        "    x, y, z = xyz\n",
        "    df1_dx = 2*x - 2\n",
        "    df1_dy = 2*y\n",
        "    df1_dz = -1\n",
        "\n",
        "    df2_dx = y**2 - 1\n",
        "    df2_dy = 2*x*y - 3 + z\n",
        "    df2_dz = y\n",
        "\n",
        "    df3_dx = z**2 + y\n",
        "    df3_dy = x + z**2\n",
        "    df3_dz = 2*x*z - 3 + 2*y*z\n",
        "\n",
        "    return np.array([[df1_dx, df1_dy, df1_dz],\n",
        "                     [df2_dx, df2_dy, df2_dz],\n",
        "                     [df3_dx, df3_dy, df3_dz]])\n",
        "\n",
        "def newton_raphson(equations, jacobian, initial_guess, tol=1e-6, max_iter=100):\n",
        "    xyz = np.array(initial_guess, dtype=float)\n",
        "\n",
        "    for i in range(max_iter):\n",
        "        f = equations(xyz)\n",
        "        J = jacobian(xyz)\n",
        "        delta_xyz = np.linalg.solve(J, -f)\n",
        "        xyz += delta_xyz\n",
        "\n",
        "        if np.linalg.norm(f, np.inf) < tol:\n",
        "            return xyz\n",
        "\n",
        "    raise Exception(\"Newton-Raphson did not converge\")\n",
        "\n",
        "initial_guess = [1, 2, 4]\n",
        "\n",
        "roots = newton_raphson(equations, jacobian, initial_guess, tol=1e-6, max_iter=100)\n",
        "print(\"Roots:\", roots)"
      ]
    }
  ]
}